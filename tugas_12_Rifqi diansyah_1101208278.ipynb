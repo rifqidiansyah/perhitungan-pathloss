{
  "nbformat": 4,
  "nbformat_minor": 0,
  "metadata": {
    "colab": {
      "name": "tugas 12.ipynb",
      "provenance": [],
      "collapsed_sections": [],
      "authorship_tag": "ABX9TyOUl+fAFJAMyUWCLYboAQy1",
      "include_colab_link": true
    },
    "kernelspec": {
      "name": "python3",
      "display_name": "Python 3"
    }
  },
  "cells": [
    {
      "cell_type": "markdown",
      "metadata": {
        "id": "view-in-github",
        "colab_type": "text"
      },
      "source": [
        "<a href=\"https://colab.research.google.com/github/rifqidiansyah/perhitungan-pathloss/blob/main/tugas_12_Rifqi%20diansyah_1101208278.ipynb\" target=\"_parent\"><img src=\"https://colab.research.google.com/assets/colab-badge.svg\" alt=\"Open In Colab\"/></a>"
      ]
    },
    {
      "cell_type": "code",
      "metadata": {
        "id": "tAtW2oV8_n77"
      },
      "source": [
        "import numpy as np"
      ],
      "execution_count": null,
      "outputs": []
    },
    {
      "cell_type": "code",
      "metadata": {
        "id": "EZ3FeuV7T9Tu"
      },
      "source": [
        "def ploss(d,fc,cm,ht,hr):\r\n",
        "\r\n",
        "\r\n",
        "  if cm == \"urban\" :\r\n",
        "    cm = 0 \r\n",
        "  elif cm == \"suburban\" :\r\n",
        "     cm = (-2*(np.log10(fc/28))**2) - 5.4\r\n",
        "  elif cm == \"open\" :\r\n",
        "     cm = (-4.78*(np.log10(fc))**2) + (18.33*np.log10(fc)) - 40.94\r\n",
        "  else :\r\n",
        "     cm = 0\r\n",
        "\r\n",
        "  for i in range(400,1500):\r\n",
        "    if fc in range(400,1500):\r\n",
        "      c1 = 69.55 \r\n",
        "      c2 = 26.16\r\n",
        "    else :\r\n",
        "       c1 = 0 \r\n",
        "       c2 = 0\r\n",
        "    \r\n",
        "  for i in range(1500,2000):\r\n",
        "   if fc in range(1500,2000):\r\n",
        "     c1 = 46.3 \r\n",
        "     c2 = 33.9\r\n",
        "   else :\r\n",
        "     c1 = 0 \r\n",
        "     c2 = 0\r\n",
        "\r\n",
        "\r\n",
        "  ahr= ((1.1*np.log10(fc))-0.7)*hr - ((1.56*np.log10(fc))-0.8)\r\n",
        "\r\n",
        "  pldb= c1 + (c2*np.log10(fc)) - (13.83*np.log10(ht)) - ahr + (44.9 - 6.55*np.log10(ht))*(np.log10(d)) + cm\r\n",
        "  \r\n",
        "  return pldb"
      ],
      "execution_count": null,
      "outputs": []
    },
    {
      "cell_type": "code",
      "metadata": {
        "colab": {
          "base_uri": "https://localhost:8080/"
        },
        "id": "TBUEoIdvUDsF",
        "outputId": "bc18f761-b480-4856-e275-1d80c82fb0f9"
      },
      "source": [
        "pldb = ploss(5,1800,\"urban\",50,3)\r\n",
        "print(\"pathloss dalam db =\",pldb,\"dB\")"
      ],
      "execution_count": null,
      "outputs": [
        {
          "output_type": "stream",
          "text": [
            "pathloss dalam db = 152.3982463818437 dB\n"
          ],
          "name": "stdout"
        }
      ]
    }
  ]
}